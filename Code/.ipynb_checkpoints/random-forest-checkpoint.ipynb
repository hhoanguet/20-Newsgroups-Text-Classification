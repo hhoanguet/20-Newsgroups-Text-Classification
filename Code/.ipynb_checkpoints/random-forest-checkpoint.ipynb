{
 "cells": [
  {
   "cell_type": "markdown",
   "metadata": {},
   "source": [
    "**Import the data**"
   ]
  },
  {
   "cell_type": "code",
   "execution_count": 1,
   "metadata": {
    "_cell_guid": "b1076dfc-b9ad-4769-8c92-a6c4dae69d19",
    "_uuid": "8f2839f25d086af736a60e9eeb907d3b93b6e0e5"
   },
   "outputs": [],
   "source": [
    "from sklearn.ensemble import RandomForestClassifier\n",
    "from sklearn.datasets import fetch_20newsgroups\n",
    "from sklearn.pipeline import Pipeline\n",
    "from sklearn.feature_extraction.text import TfidfVectorizer\n",
    "twenty_train = fetch_20newsgroups(subset='train', shuffle=True,random_state=42)\n",
    "twenty_test = fetch_20newsgroups(subset='test', shuffle=True,random_state=42)"
   ]
  },
  {
   "cell_type": "code",
   "execution_count": 2,
   "metadata": {},
   "outputs": [
    {
     "data": {
      "text/plain": [
       "dict_keys(['data', 'filenames', 'target_names', 'target', 'DESCR'])"
      ]
     },
     "execution_count": 2,
     "metadata": {},
     "output_type": "execute_result"
    }
   ],
   "source": [
    "# The variables twenty_train and twenty_test stored as a dictinary with tuples key and value\n",
    "twenty_train.keys()"
   ]
  },
  {
   "cell_type": "code",
   "execution_count": 3,
   "metadata": {},
   "outputs": [
    {
     "data": {
      "text/plain": [
       "['alt.atheism',\n",
       " 'comp.graphics',\n",
       " 'comp.os.ms-windows.misc',\n",
       " 'comp.sys.ibm.pc.hardware',\n",
       " 'comp.sys.mac.hardware',\n",
       " 'comp.windows.x',\n",
       " 'misc.forsale',\n",
       " 'rec.autos',\n",
       " 'rec.motorcycles',\n",
       " 'rec.sport.baseball',\n",
       " 'rec.sport.hockey',\n",
       " 'sci.crypt',\n",
       " 'sci.electronics',\n",
       " 'sci.med',\n",
       " 'sci.space',\n",
       " 'soc.religion.christian',\n",
       " 'talk.politics.guns',\n",
       " 'talk.politics.mideast',\n",
       " 'talk.politics.misc',\n",
       " 'talk.religion.misc']"
      ]
     },
     "execution_count": 3,
     "metadata": {},
     "output_type": "execute_result"
    }
   ],
   "source": [
    "twenty_train.target_names"
   ]
  },
  {
   "cell_type": "code",
   "execution_count": 4,
   "metadata": {},
   "outputs": [
    {
     "name": "stdout",
     "output_type": "stream",
     "text": [
      "11314 documents\n",
      "20 categories\n",
      "7532 documents\n",
      "20 categories\n"
     ]
    }
   ],
   "source": [
    "# Visualize the size of train and test data \n",
    "print(len(twenty_train.filenames),\"documents\")\n",
    "print(len(twenty_train.target_names),\"categories\")\n",
    "print(len(twenty_test.filenames),\"documents\")\n",
    "print(len(twenty_test.target_names), \"categories\")"
   ]
  },
  {
   "cell_type": "code",
   "execution_count": 5,
   "metadata": {},
   "outputs": [],
   "source": [
    "X_train = twenty_train.data\n",
    "y_train = twenty_train.target\n",
    "X_test = twenty_test.data\n",
    "y_test = twenty_test.target"
   ]
  },
  {
   "cell_type": "markdown",
   "metadata": {},
   "source": [
    "**Define the train function for our model**"
   ]
  },
  {
   "cell_type": "code",
   "execution_count": 6,
   "metadata": {},
   "outputs": [],
   "source": [
    "import time\n",
    "from sklearn.metrics import accuracy_score\n",
    "\n",
    "def train(classifier,X_train,y_train,X_test,y_test):\n",
    "    start = time.time()\n",
    "\n",
    "    classifier.fit(X_train, y_train)\n",
    "    end = time.time()\n",
    "    predicted = classifier.predict(X_test)\n",
    "\n",
    "    print(\"Accuracy: \", accuracy_score(y_test,predicted))\n",
    "    print(\"Time duration: \" + str(end - start))\n",
    "    return classifier\n"
   ]
  },
  {
   "cell_type": "markdown",
   "metadata": {},
   "source": [
    "**Model 1: n_estimators = 100**"
   ]
  },
  {
   "cell_type": "code",
   "execution_count": 7,
   "metadata": {
    "scrolled": true
   },
   "outputs": [
    {
     "name": "stdout",
     "output_type": "stream",
     "text": [
      "Accuracy:  0.7833244822092406\n",
      "Time duration: 37.7240035533905\n"
     ]
    },
    {
     "data": {
      "text/plain": [
       "Pipeline(steps=[('vectorizer', TfidfVectorizer(stop_words='english')),\n",
       "                ('clf', RandomForestClassifier(n_jobs=-1, random_state=42))])"
      ]
     },
     "execution_count": 7,
     "metadata": {},
     "output_type": "execute_result"
    }
   ],
   "source": [
    "model_1 = Pipeline([('vectorizer',TfidfVectorizer(stop_words='english')),\n",
    "                     ('clf', RandomForestClassifier(random_state=42,n_jobs=-1)),\n",
    "                     ])\n",
    "train(model_1,X_train,y_train,X_test,y_test)"
   ]
  },
  {
   "cell_type": "markdown",
   "metadata": {},
   "source": [
    "**Model 2: n_estimators = 200**"
   ]
  },
  {
   "cell_type": "code",
   "execution_count": 8,
   "metadata": {
    "scrolled": true
   },
   "outputs": [
    {
     "name": "stdout",
     "output_type": "stream",
     "text": [
      "Accuracy:  0.7959373340414233\n",
      "Time duration: 71.93949270248413\n"
     ]
    },
    {
     "data": {
      "text/plain": [
       "Pipeline(steps=[('vectorizer', TfidfVectorizer(stop_words='english')),\n",
       "                ('clf',\n",
       "                 RandomForestClassifier(n_estimators=200, n_jobs=-1,\n",
       "                                        random_state=42))])"
      ]
     },
     "execution_count": 8,
     "metadata": {},
     "output_type": "execute_result"
    }
   ],
   "source": [
    "model_2 = Pipeline([('vectorizer',TfidfVectorizer(stop_words='english')),\n",
    "                     ('clf', RandomForestClassifier(n_estimators = 200,random_state=42,n_jobs=-1)),\n",
    "                     ])\n",
    "train(model_2,X_train,y_train,X_test,y_test)"
   ]
  },
  {
   "cell_type": "markdown",
   "metadata": {},
   "source": [
    "**Model 3: n_estimators = 300**"
   ]
  },
  {
   "cell_type": "code",
   "execution_count": 9,
   "metadata": {},
   "outputs": [
    {
     "name": "stdout",
     "output_type": "stream",
     "text": [
      "Accuracy:  0.8019118428040362\n",
      "Time duration: 102.43981742858887\n"
     ]
    },
    {
     "data": {
      "text/plain": [
       "Pipeline(steps=[('vectorizer', TfidfVectorizer(stop_words='english')),\n",
       "                ('clf',\n",
       "                 RandomForestClassifier(n_estimators=300, n_jobs=-1,\n",
       "                                        random_state=42))])"
      ]
     },
     "execution_count": 9,
     "metadata": {},
     "output_type": "execute_result"
    }
   ],
   "source": [
    "#n_estimators = 300\n",
    "model_3 = Pipeline([('vectorizer',TfidfVectorizer(stop_words='english')),\n",
    "                     ('clf', RandomForestClassifier(n_estimators = 300,random_state=42,n_jobs=-1)),\n",
    "                     ])\n",
    "train(model_3,X_train,y_train,X_test,y_test)"
   ]
  },
  {
   "cell_type": "markdown",
   "metadata": {},
   "source": [
    "**Model 4: n_estimators = 400**"
   ]
  },
  {
   "cell_type": "code",
   "execution_count": 10,
   "metadata": {},
   "outputs": [
    {
     "name": "stdout",
     "output_type": "stream",
     "text": [
      "Accuracy:  0.8015135422198619\n",
      "Time duration: 137.673015832901\n"
     ]
    },
    {
     "data": {
      "text/plain": [
       "Pipeline(steps=[('vectorizer', TfidfVectorizer(stop_words='english')),\n",
       "                ('clf',\n",
       "                 RandomForestClassifier(n_estimators=400, n_jobs=-1,\n",
       "                                        random_state=42))])"
      ]
     },
     "execution_count": 10,
     "metadata": {},
     "output_type": "execute_result"
    }
   ],
   "source": [
    "#n_estimators = 400\n",
    "model_4 = Pipeline([('vectorizer',TfidfVectorizer(stop_words='english')),\n",
    "                     ('clf', RandomForestClassifier(n_estimators = 400,random_state=42,n_jobs=-1)),\n",
    "                     ])\n",
    "train(model_4,X_train,y_train,X_test,y_test)"
   ]
  },
  {
   "cell_type": "markdown",
   "metadata": {},
   "source": [
    "**Model 5: n_estimators = 1000**"
   ]
  },
  {
   "cell_type": "code",
   "execution_count": 11,
   "metadata": {},
   "outputs": [
    {
     "name": "stdout",
     "output_type": "stream",
     "text": [
      "Accuracy:  0.8021773765268189\n",
      "Time duration: 352.22062945365906\n"
     ]
    },
    {
     "data": {
      "text/plain": [
       "Pipeline(steps=[('vectorizer', TfidfVectorizer(stop_words='english')),\n",
       "                ('clf',\n",
       "                 RandomForestClassifier(n_estimators=1000, n_jobs=-1,\n",
       "                                        random_state=42))])"
      ]
     },
     "execution_count": 11,
     "metadata": {},
     "output_type": "execute_result"
    }
   ],
   "source": [
    "model_5 = Pipeline([('vectorizer',TfidfVectorizer(stop_words='english')),\n",
    "                     ('clf', RandomForestClassifier(n_estimators = 1000,random_state=42,n_jobs=-1)),\n",
    "                     ])\n",
    "train(model_5,X_train,y_train,X_test,y_test)"
   ]
  }
 ],
 "metadata": {
  "kernelspec": {
   "display_name": "Python 3",
   "language": "python",
   "name": "python3"
  },
  "language_info": {
   "codemirror_mode": {
    "name": "ipython",
    "version": 3
   },
   "file_extension": ".py",
   "mimetype": "text/x-python",
   "name": "python",
   "nbconvert_exporter": "python",
   "pygments_lexer": "ipython3",
   "version": "3.8.3"
  }
 },
 "nbformat": 4,
 "nbformat_minor": 4
}
